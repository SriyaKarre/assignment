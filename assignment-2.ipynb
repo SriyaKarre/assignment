{
 "cells": [
  {
   "cell_type": "markdown",
   "id": "eaecf856",
   "metadata": {},
   "source": [
    "1.What are the two values of the Boolean data type? How do you write them?"
   ]
  },
  {
   "cell_type": "markdown",
   "id": "456464b7",
   "metadata": {},
   "source": [
    "ans.There are two boolean values:True and False."
   ]
  },
  {
   "cell_type": "markdown",
   "id": "9138ff13",
   "metadata": {},
   "source": [
    "2. What are the three different types of Boolean operators?"
   ]
  },
  {
   "cell_type": "markdown",
   "id": "b8c80615",
   "metadata": {},
   "source": [
    "ans.The three boolean operators are :AND , OR and NOT."
   ]
  },
  {
   "cell_type": "markdown",
   "id": "bfaa414c",
   "metadata": {},
   "source": [
    "3. Make a list of each Boolean operator's truth tables (i.e. every possible combination of Boolean\n",
    "values for the operator and what it evaluate )."
   ]
  },
  {
   "cell_type": "markdown",
   "id": "a1ad28aa",
   "metadata": {},
   "source": [
    "ans.condition 1  condition 2  NOT X     X AND Y     X OR Y  \n",
    "     eg : X       eg : Y       (~X)\n",
    "     false        false       true       false      false\n",
    "     false        true        true       false      true\n",
    "     true         false       false      false      true\n",
    "     true         true        false      true       true"
   ]
  },
  {
   "cell_type": "markdown",
   "id": "e9441a85",
   "metadata": {},
   "source": [
    "4. What are the values of the following expressions?\n",
    "(5 > 4) and (3 == 5)\n",
    "not (5 > 4)\n",
    "(5 > 4) or (3 == 5)\n",
    "not ((5 > 4) or (3 == 5))\n",
    "(True and True) and (True == False)\n",
    "(not False) or (not True)"
   ]
  },
  {
   "cell_type": "markdown",
   "id": "5c92034b",
   "metadata": {},
   "source": [
    "ans.False\n",
    "    False\n",
    "    True\n",
    "    False\n",
    "    False\n",
    "    True"
   ]
  },
  {
   "cell_type": "markdown",
   "id": "8a8c53dd",
   "metadata": {},
   "source": [
    "5. What are the six comparison operators?"
   ]
  },
  {
   "cell_type": "markdown",
   "id": "ca6f77d3",
   "metadata": {},
   "source": [
    "ans.Six comparison operators: less than ( < ),less than or equal to ( <= ),greater than ( > ),greater than or equal to ( >= ), equal to ( == ),and not equal to ( != )."
   ]
  },
  {
   "cell_type": "markdown",
   "id": "27a722f6",
   "metadata": {},
   "source": [
    "6. How do you tell the difference between the equal to and assignment operators?Describe a\n",
    "condition and when you would use one."
   ]
  },
  {
   "cell_type": "markdown",
   "id": "dbfd699b",
   "metadata": {},
   "source": [
    "ans.The “=” is an assignment operator is used to assign the value on the right to the variable on the left.\n",
    "The '==' operator checks whether the two given operands are equal or not. If so, it returns true. Otherwise it returns false."
   ]
  },
  {
   "cell_type": "markdown",
   "id": "c0b49b54",
   "metadata": {},
   "source": [
    "7. Identify the three blocks in this code:\n"
   ]
  },
  {
   "cell_type": "code",
   "execution_count": 7,
   "id": "efac4a05",
   "metadata": {},
   "outputs": [
    {
     "name": "stdout",
     "output_type": "stream",
     "text": [
      "spam\n",
      "spam\n",
      "spam\n"
     ]
    }
   ],
   "source": [
    "spam = 0\n",
    "if spam == 10:\n",
    "    print(\"eggs\")\n",
    "    if spam > 5:\n",
    "        print(\"bacon\")\n",
    "else:\n",
    "    print(\"spam\")\n",
    "    print(\"spam\")\n",
    "    print(\"spam\")"
   ]
  },
  {
   "cell_type": "markdown",
   "id": "1ee88872",
   "metadata": {},
   "source": [
    "8. Write code that prints Hello if 1 is stored in spam, prints Howdy if 2 is stored in spam, and prints\n",
    "Greetings! if anything else is stored in spam."
   ]
  },
  {
   "cell_type": "code",
   "execution_count": 4,
   "id": "e93b7ece",
   "metadata": {},
   "outputs": [
    {
     "name": "stdout",
     "output_type": "stream",
     "text": [
      "2\n",
      "Howdy\n"
     ]
    }
   ],
   "source": [
    "spam=int(input())\n",
    "if spam==1:\n",
    "    print(\"Hello\")\n",
    "elif spam==2:\n",
    "    print(\"Howdy\")\n",
    "else:\n",
    "    print(\"Greeting!\")"
   ]
  },
  {
   "cell_type": "markdown",
   "id": "81c8b1ae",
   "metadata": {},
   "source": [
    "9.If your programme is stuck in an endless loop, what keys you’ll press?"
   ]
  },
  {
   "cell_type": "markdown",
   "id": "2cf32f1f",
   "metadata": {},
   "source": [
    "ans.ctrl+c"
   ]
  },
  {
   "cell_type": "markdown",
   "id": "016951a2",
   "metadata": {},
   "source": [
    "10. How can you tell the difference between break and continue?"
   ]
  },
  {
   "cell_type": "markdown",
   "id": "cc662bea",
   "metadata": {},
   "source": [
    "ans.Break Statement : The break statement is usually used with the switch statement, and it can also use it within the while loop, do-while loop, or the for-loop.\n",
    "Continue Statement : The continue statement is not used with the switch statement, but it can be used within the while loop, do-while loop, or for-loop."
   ]
  },
  {
   "cell_type": "markdown",
   "id": "b66a3601",
   "metadata": {},
   "source": [
    "11. In a for loop, what is the difference between range(10), range(0, 10), and range(0, 10, 1)?"
   ]
  },
  {
   "cell_type": "markdown",
   "id": "5b90f025",
   "metadata": {},
   "source": [
    "ans.In for loop there is no difference between range(10),range(0,10) and range(0,10,1) they all give same output as :\n",
    "0\n",
    "1\n",
    "2\n",
    "3\n",
    "4\n",
    "5\n",
    "6\n",
    "7\n",
    "8\n",
    "9"
   ]
  },
  {
   "cell_type": "markdown",
   "id": "0d64bf75",
   "metadata": {},
   "source": [
    "12. Write a short program that prints the numbers 1 to 10 using a for loop. Then write an equivalent\n",
    "program that prints the numbers 1 to 10 using a while loop."
   ]
  },
  {
   "cell_type": "code",
   "execution_count": 12,
   "id": "959ede8d",
   "metadata": {},
   "outputs": [
    {
     "name": "stdout",
     "output_type": "stream",
     "text": [
      "1\n",
      "2\n",
      "3\n",
      "4\n",
      "5\n",
      "6\n",
      "7\n",
      "8\n",
      "9\n",
      "10\n"
     ]
    }
   ],
   "source": [
    "for i in range(1,11):\n",
    "    print(i)"
   ]
  },
  {
   "cell_type": "code",
   "execution_count": 13,
   "id": "93b5dbcc",
   "metadata": {},
   "outputs": [
    {
     "name": "stdout",
     "output_type": "stream",
     "text": [
      "1\n",
      "2\n",
      "3\n",
      "4\n",
      "5\n",
      "6\n",
      "7\n",
      "8\n",
      "9\n",
      "10\n"
     ]
    }
   ],
   "source": [
    "i = 1\n",
    "while(i<=10):\n",
    "    print(i)\n",
    "    i += 1"
   ]
  },
  {
   "cell_type": "markdown",
   "id": "0d2e80b2",
   "metadata": {},
   "source": [
    "13. If you had a function named bacon() inside a module named spam, how would you call it after\n",
    "importing spam?"
   ]
  },
  {
   "cell_type": "code",
   "execution_count": null,
   "id": "45e7d32c",
   "metadata": {},
   "outputs": [],
   "source": [
    "This function can be called with spam. bacon().\n"
   ]
  }
 ],
 "metadata": {
  "kernelspec": {
   "display_name": "Python 3 (ipykernel)",
   "language": "python",
   "name": "python3"
  },
  "language_info": {
   "codemirror_mode": {
    "name": "ipython",
    "version": 3
   },
   "file_extension": ".py",
   "mimetype": "text/x-python",
   "name": "python",
   "nbconvert_exporter": "python",
   "pygments_lexer": "ipython3",
   "version": "3.9.7"
  }
 },
 "nbformat": 4,
 "nbformat_minor": 5
}
